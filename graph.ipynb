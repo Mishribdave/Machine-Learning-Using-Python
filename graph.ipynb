{
 "cells": [
  {
   "cell_type": "code",
   "execution_count": 1,
   "metadata": {
    "collapsed": true
   },
   "outputs": [],
   "source": [
    "import matplotlib.pyplot as plt"
   ]
  },
  {
   "cell_type": "code",
   "execution_count": 4,
   "metadata": {
    "collapsed": true
   },
   "outputs": [],
   "source": [
    "import pandas as pd"
   ]
  },
  {
   "cell_type": "code",
   "execution_count": 8,
   "metadata": {},
   "outputs": [
    {
     "data": {
      "text/html": [
       "<div>\n",
       "<style>\n",
       "    .dataframe thead tr:only-child th {\n",
       "        text-align: right;\n",
       "    }\n",
       "\n",
       "    .dataframe thead th {\n",
       "        text-align: left;\n",
       "    }\n",
       "\n",
       "    .dataframe tbody tr th {\n",
       "        vertical-align: top;\n",
       "    }\n",
       "</style>\n",
       "<table border=\"1\" class=\"dataframe\">\n",
       "  <thead>\n",
       "    <tr style=\"text-align: right;\">\n",
       "      <th></th>\n",
       "      <th>Name</th>\n",
       "      <th>Gender</th>\n",
       "      <th>Course</th>\n",
       "      <th>10%</th>\n",
       "      <th>12%</th>\n",
       "      <th>Graduation</th>\n",
       "      <th>Graduation Degree</th>\n",
       "      <th>PG</th>\n",
       "    </tr>\n",
       "  </thead>\n",
       "  <tbody>\n",
       "    <tr>\n",
       "      <th>0</th>\n",
       "      <td>ABC</td>\n",
       "      <td>M</td>\n",
       "      <td>MSCIT</td>\n",
       "      <td>85.23</td>\n",
       "      <td>90.51</td>\n",
       "      <td>85</td>\n",
       "      <td>BCA</td>\n",
       "      <td>87</td>\n",
       "    </tr>\n",
       "    <tr>\n",
       "      <th>1</th>\n",
       "      <td>DEF</td>\n",
       "      <td>M</td>\n",
       "      <td>MCA</td>\n",
       "      <td>75.00</td>\n",
       "      <td>78.00</td>\n",
       "      <td>74</td>\n",
       "      <td>BSCIT</td>\n",
       "      <td>86</td>\n",
       "    </tr>\n",
       "    <tr>\n",
       "      <th>2</th>\n",
       "      <td>GEH</td>\n",
       "      <td>F</td>\n",
       "      <td>IMSCIT</td>\n",
       "      <td>90.14</td>\n",
       "      <td>85.00</td>\n",
       "      <td>73</td>\n",
       "      <td>IMSCIT</td>\n",
       "      <td>74</td>\n",
       "    </tr>\n",
       "    <tr>\n",
       "      <th>3</th>\n",
       "      <td>IJK</td>\n",
       "      <td>M</td>\n",
       "      <td>MCA</td>\n",
       "      <td>82.25</td>\n",
       "      <td>95.00</td>\n",
       "      <td>81</td>\n",
       "      <td>BCA</td>\n",
       "      <td>75</td>\n",
       "    </tr>\n",
       "    <tr>\n",
       "      <th>4</th>\n",
       "      <td>LMN</td>\n",
       "      <td>F</td>\n",
       "      <td>IMSCIT</td>\n",
       "      <td>45.58</td>\n",
       "      <td>52.58</td>\n",
       "      <td>89</td>\n",
       "      <td>IMSCIT</td>\n",
       "      <td>57</td>\n",
       "    </tr>\n",
       "    <tr>\n",
       "      <th>5</th>\n",
       "      <td>OPQ</td>\n",
       "      <td>F</td>\n",
       "      <td>MSCIT</td>\n",
       "      <td>50.00</td>\n",
       "      <td>40.00</td>\n",
       "      <td>80</td>\n",
       "      <td>BCA</td>\n",
       "      <td>58</td>\n",
       "    </tr>\n",
       "  </tbody>\n",
       "</table>\n",
       "</div>"
      ],
      "text/plain": [
       "  Name Gender  Course    10%    12%  Graduation Graduation Degree  PG\n",
       "0  ABC      M   MSCIT  85.23  90.51          85               BCA  87\n",
       "1  DEF      M     MCA  75.00  78.00          74             BSCIT  86\n",
       "2  GEH      F  IMSCIT  90.14  85.00          73            IMSCIT  74\n",
       "3  IJK      M     MCA  82.25  95.00          81               BCA  75\n",
       "4  LMN      F  IMSCIT  45.58  52.58          89            IMSCIT  57\n",
       "5  OPQ      F   MSCIT  50.00  40.00          80               BCA  58"
      ]
     },
     "execution_count": 8,
     "metadata": {},
     "output_type": "execute_result"
    }
   ],
   "source": [
    "df=pd.read_csv('MLP.csv')\n",
    "df\n"
   ]
  },
  {
   "cell_type": "code",
   "execution_count": 25,
   "metadata": {},
   "outputs": [
    {
     "data": {
      "image/png": "[encoded data removed]",
      "text/plain": [
       "<matplotlib.figure.Figure at 0x1168fbef0>"
      ]
     },
     "metadata": {},
     "output_type": "display_data"
    }
   ],
   "source": [
    "#df.plot(kind='scatter',x='10%',y='12%',color='blue')\n",
    "#df.plot(kind='bar',x='10%',y='12%',color='blue')\n",
    "#df.plot(kind='line',x='10%',y='12%',color='blue')\n",
    "#plt.title('Scatter')\n",
    "#plt.title('LINE')\n",
    "#plt.show()\n",
    "\n",
    "#LINE CHART \n",
    "#df1=df.head(4)\n",
    "ax=plt.gca()\n",
    "df1.plot(kind='line',x='Name',y='10%',color='blue',ax=ax)\n",
    "df1.plot(kind='line',x='Name',y='12%',color='black',ax=ax)\n",
    "df1.plot(kind='line',x='Name',y='Graduation',color='red',ax=ax)\n",
    "plt.show()"
   ]
  },
  {
   "cell_type": "code",
   "execution_count": null,
   "metadata": {
    "collapsed": true
   },
   "outputs": [],
   "source": []
  }
 ],
 "metadata": {
  "kernelspec": {
   "display_name": "Python 3",
   "language": "python",
   "name": "python3"
  },
  "language_info": {
   "codemirror_mode": {
    "name": "ipython",
    "version": 3
   },
   "file_extension": ".py",
   "mimetype": "text/x-python",
   "name": "python",
   "nbconvert_exporter": "python",
   "pygments_lexer": "ipython3",
   "version": "3.6.3"
  }
 },
 "nbformat": 4,
 "nbformat_minor": 2
}
